{
 "cells": [
  {
   "cell_type": "markdown",
   "metadata": {},
   "source": [
    "Thumbslide"
   ]
  },
  {
   "cell_type": "code",
   "execution_count": 3,
   "metadata": {},
   "outputs": [],
   "source": [
    "# slide code"
   ]
  },
  {
   "cell_type": "markdown",
   "metadata": {},
   "source": [
    "Environmental sensor BME280"
   ]
  },
  {
   "cell_type": "code",
   "execution_count": null,
   "metadata": {},
   "outputs": [],
   "source": [
    "from bme280_float import BME280\n",
    "from machine import I2C, Pin\n",
    "\n",
    "I2C_SCL = 27\n",
    "I2C_SDA = 32\n",
    "\n",
    "i2c = I2C(scl=Pin(I2C_SCL), sda=Pin(I2C_SDA))\n",
    "\n",
    "BME280_I2CADDR = 0x76\n",
    "\n",
    "bme = BME280(i2c=i2c, address=BME280_I2CADDR)\n",
    "\n",
    "(t, p, h) = bme.read_compensated_data()\n",
    "\n",
    "print(t)"
   ]
  },
  {
   "cell_type": "markdown",
   "metadata": {},
   "source": [
    "Motion sensor MPU-9250"
   ]
  },
  {
   "cell_type": "code",
   "execution_count": null,
   "metadata": {},
   "outputs": [],
   "source": [
    "from machine import I2C, Pin\n",
    "import mpu9250\n",
    "\n",
    "I2C_SCL = 27\n",
    "I2C_SDA = 32\n",
    "\n",
    "i2c = I2C(scl=Pin(I2C_SCL), sda=Pin(I2C_SDA))\n",
    "\n",
    "mpu = mpu9250.MPU9250(i2c)\n",
    "(x, y, z) = mpu.magnetic\n",
    "print(x, y, z)"
   ]
  },
  {
   "cell_type": "markdown",
   "metadata": {},
   "source": [
    "GPIO Extender MCP23017"
   ]
  },
  {
   "cell_type": "code",
   "execution_count": null,
   "metadata": {},
   "outputs": [],
   "source": [
    "import mcp\n",
    "\n",
    "I2C_SCL = 27\n",
    "I2C_SDA = 32\n",
    "\n",
    "io = mcp.MCP23017(address=0x27, gpioScl=I2C_SCL, gpioSda=I2C_SDA)\n",
    "\n",
    "# controls some output pins\n",
    "outPins = list(range(10,16))\n",
    "nextVals = {}\n",
    "for pinNum in outPins:\n",
    "    io.setup(pinNum, mcp.OUT)\n",
    "    nextVals[pinNum] = True\n",
    "io.output_pins(nextVals)\n",
    "\n",
    "# monitors and prints some input pins\n",
    "inPins = list(range(0,10))\n",
    "for pinNum in inPins:\n",
    "    io.setup(pinNum, mcp.IN)\n",
    "while True:\n",
    "    print(io.input_pins(inPins))"
   ]
  },
  {
   "cell_type": "markdown",
   "metadata": {},
   "source": [
    "MicroSD card reader"
   ]
  },
  {
   "cell_type": "code",
   "execution_count": null,
   "metadata": {},
   "outputs": [],
   "source": [
    "from machine import Pin, SPI\n",
    "\n",
    "spi = SPI(spihost=SPI.HSPI, sck=18, mosi=19, miso=23)\n",
    "\n",
    "from sdcard import SDCard\n",
    "\n",
    "s = SDCard(spi, cs=Pin(2))"
   ]
  },
  {
   "cell_type": "markdown",
   "metadata": {},
   "source": [
    "Microphone"
   ]
  },
  {
   "cell_type": "code",
   "execution_count": 2,
   "metadata": {},
   "outputs": [],
   "source": [
    "# Code mic"
   ]
  },
  {
   "cell_type": "markdown",
   "metadata": {},
   "source": [
    "Speaker"
   ]
  },
  {
   "cell_type": "code",
   "execution_count": null,
   "metadata": {},
   "outputs": [],
   "source": [
    "from machine import DAC, Pin\n",
    "\n",
    "dac = DAC(26)\n",
    "sh = Pin(4, Pin.OUT, Pin.PULL_UP)\n",
    "sh.value(1)\n",
    "t = DAC.SINE\n",
    "f = 500\n",
    "dac.waveform(f, type=t, scale=0)"
   ]
  },
  {
   "cell_type": "markdown",
   "metadata": {},
   "source": [
    "Display"
   ]
  },
  {
   "cell_type": "code",
   "execution_count": 1,
   "metadata": {},
   "outputs": [],
   "source": [
    "# CODE DISPLAY"
   ]
  },
  {
   "cell_type": "code",
   "execution_count": null,
   "metadata": {},
   "outputs": [],
   "source": []
  }
 ],
 "metadata": {
  "kernelspec": {
   "display_name": "Python 3",
   "language": "python",
   "name": "python3"
  },
  "language_info": {
   "codemirror_mode": {
    "name": "ipython",
    "version": 3
   },
   "file_extension": ".py",
   "mimetype": "text/x-python",
   "name": "python",
   "nbconvert_exporter": "python",
   "pygments_lexer": "ipython3",
   "version": "3.7.1"
  }
 },
 "nbformat": 4,
 "nbformat_minor": 2
}
