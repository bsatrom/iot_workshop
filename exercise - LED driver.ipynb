{
 "cells": [
  {
   "cell_type": "markdown",
   "metadata": {},
   "source": [
    "Make a LED driver so we can easily control the four APA102 LEDs\n",
    "\n",
    "The MicroPython port for ESP8266 has support for APA102 ([link](https://docs.micropython.org/en/latest/esp8266/tutorial/apa102.html)).\n",
    "\n",
    "We want to make a driver in Python for the ESP32.\n",
    "\n",
    "Datasheet for APA102: https://cdn-shop.adafruit.com/datasheets/APA102.pdf"
   ]
  },
  {
   "cell_type": "markdown",
   "metadata": {},
   "source": [
    "## Tasks\n",
    "\n",
    "Implement the APA102 class with the same methods as for the ESP8266, with one exception: the constructor should take an SPI object instead of two Pin objects.\n",
    "\n",
    "\n"
   ]
  },
  {
   "cell_type": "code",
   "execution_count": null,
   "metadata": {},
   "outputs": [],
   "source": [
    "class APA102:\n",
    "    BAUD_MIN = 0\n",
    "    BAUD_MAX = 0\n",
    "    \n",
    "    def init(self, *args, numleds=4, baudrate=APA102.BAUD_MIN):\n",
    "        raise NotImplemented\n",
    "    \n",
    "    def __setitem__(self, key, item):\n",
    "        \"\"\"\n",
    "        item = (red, green, blue, brightness)\n",
    "        strip[0] = (255, 0, 0, 31) # set to red, full brightness\n",
    "        \"\"\"\n",
    "        raise NotImplemented\n",
    "    \n",
    "    def __getitem__(self, key, item):\n",
    "        raise NotImplemented\n",
    "    \n",
    "    def write(self):\n",
    "        raise NotImplemented"
   ]
  },
  {
   "cell_type": "markdown",
   "metadata": {},
   "source": [
    "a)\n",
    "What makes I2C unsuitable for this purpose?\n",
    "\n",
    "- I2C (https://docs.micropython.org/en/latest/esp32/quickref.html#i2c-bus)\n",
    "\n",
    "b)\n",
    "What values should `BAUD_MIN` and `BAUD_MAX` have? Baudrate referes to the data transfer speed."
   ]
  },
  {
   "cell_type": "markdown",
   "metadata": {},
   "source": [
    "### Hints:\n",
    "\n",
    "- SPI (https://docs.micropython.org/en/latest/esp32/quickref.html#hardware-spi-bus)\n",
    "- bytearray and memoryview\n",
    "- bit shift operators << and >>"
   ]
  },
  {
   "cell_type": "code",
   "execution_count": 3,
   "metadata": {},
   "outputs": [
    {
     "data": {
      "text/plain": [
       "11"
      ]
     },
     "execution_count": 3,
     "metadata": {},
     "output_type": "execute_result"
    }
   ],
   "source": [
    "int(0b1011)"
   ]
  },
  {
   "cell_type": "code",
   "execution_count": 8,
   "metadata": {},
   "outputs": [
    {
     "data": {
      "text/plain": [
       "'0b1011'"
      ]
     },
     "execution_count": 8,
     "metadata": {},
     "output_type": "execute_result"
    }
   ],
   "source": [
    "bin(0b1011 & 0b1000)"
   ]
  },
  {
   "cell_type": "code",
   "execution_count": 11,
   "metadata": {},
   "outputs": [
    {
     "data": {
      "text/plain": [
       "'0b1111'"
      ]
     },
     "execution_count": 11,
     "metadata": {},
     "output_type": "execute_result"
    }
   ],
   "source": [
    "bin(0b1011 | 0b0100)"
   ]
  },
  {
   "cell_type": "code",
   "execution_count": 14,
   "metadata": {},
   "outputs": [
    {
     "data": {
      "text/plain": [
       "'0b1000'"
      ]
     },
     "execution_count": 14,
     "metadata": {},
     "output_type": "execute_result"
    }
   ],
   "source": [
    "bin(0x00000001 << 3)"
   ]
  },
  {
   "cell_type": "code",
   "execution_count": 27,
   "metadata": {},
   "outputs": [],
   "source": [
    "from array import array\n",
    "\n",
    "numleds = 4\n",
    "\n",
    "numframes = 1+numleds+1 # 1 frame = 32 bits = 4 bytes\n",
    "buf = array('L', [0]*numframes) # 'L': unsigned integer, size 4 bytes\n",
    "\n",
    "buf[0] = 0 #startframe\n",
    "#mv = memoryview(buf)\n",
    "#led1 = mv[1]\n",
    "\n"
   ]
  },
  {
   "cell_type": "code",
   "execution_count": 15,
   "metadata": {},
   "outputs": [
    {
     "name": "stdout",
     "output_type": "stream",
     "text": [
      "hello world\n"
     ]
    }
   ],
   "source": [
    "print('hello world')"
   ]
  },
  {
   "cell_type": "code",
   "execution_count": 4,
   "metadata": {},
   "outputs": [
    {
     "data": {
      "text/plain": [
       "97"
      ]
     },
     "execution_count": 4,
     "metadata": {},
     "output_type": "execute_result"
    }
   ],
   "source": [
    "ord('a')"
   ]
  }
 ],
 "metadata": {
  "kernelspec": {
   "display_name": "Python 3",
   "language": "python",
   "name": "python3"
  },
  "language_info": {
   "codemirror_mode": {
    "name": "ipython",
    "version": 3
   },
   "file_extension": ".py",
   "mimetype": "text/x-python",
   "name": "python",
   "nbconvert_exporter": "python",
   "pygments_lexer": "ipython3",
   "version": "3.6.7"
  }
 },
 "nbformat": 4,
 "nbformat_minor": 2
}
